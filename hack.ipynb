{
 "cells": [
  {
   "cell_type": "code",
   "execution_count": 2,
   "metadata": {},
   "outputs": [],
   "source": [
    "import numpy as np\n",
    "from IPython.display import HTML, display\n",
    "import tabulate\n",
    "import random\n",
    "import datetime\n",
    "import sys\n",
    "from copy import deepcopy\n",
    "import pickle"
   ]
  },
  {
   "cell_type": "code",
   "execution_count": 3,
   "metadata": {},
   "outputs": [],
   "source": [
    "names=[\n",
    "['Кленовый лист','Сакура','Сосна','Ирис'],\n",
    "['Восходящее солнце','Тандзаку','Птица','Дождь']\n",
    "]"
   ]
  },
  {
   "cell_type": "code",
   "execution_count": 4,
   "metadata": {},
   "outputs": [],
   "source": [
    "class Card:\n",
    "    def __init__(self, a,b,player):\n",
    "        self.a = a\n",
    "        self.b = b\n",
    "        self.player=player"
   ]
  },
  {
   "cell_type": "code",
   "execution_count": 5,
   "metadata": {},
   "outputs": [],
   "source": [
    "def draw_card(card):\n",
    "    print(names[0][card.a]+' ['+str(card.player)+'] '+names[1][card.b])"
   ]
  },
  {
   "cell_type": "code",
   "execution_count": 6,
   "metadata": {},
   "outputs": [],
   "source": [
    "def generate_field():\n",
    "    cards=[]\n",
    "    for i in range(0,4):\n",
    "        for j in range(0,4):\n",
    "            s=Card(i,j,0)\n",
    "            cards.append(s)\n",
    "    cards=np.array(cards)\n",
    "    np.random.shuffle(cards)\n",
    "    return np.reshape(cards,(4,4))"
   ]
  },
  {
   "cell_type": "code",
   "execution_count": 7,
   "metadata": {},
   "outputs": [],
   "source": [
    "def draw_field(field):\n",
    "    field_map=[]\n",
    "    for i in field:\n",
    "        s=[]\n",
    "        for j in i:\n",
    "            s.append(names[0][j.a]+' ['+str(j.player)+'] '+names[1][j.b])\n",
    "        field_map.append(s)\n",
    "    display(HTML(tabulate.tabulate(field_map, tablefmt='html',colalign=(\"center\", \"center\",\"center\", \"center\"))))"
   ]
  },
  {
   "cell_type": "code",
   "execution_count": 8,
   "metadata": {},
   "outputs": [],
   "source": [
    "def place_available(universe,place):\n",
    "    place_card=universe.field[place[0]][place[1]]\n",
    "    available_places=[\n",
    "                [0,0],[0,1],[0,2],[0,3],\n",
    "                [1,0],[1,3],\n",
    "                [2,0],[2,3],\n",
    "                [3,0],[3,1],[3,2],[3,3]\n",
    "            ]\n",
    "    \n",
    "    availability=True\n",
    "\n",
    "    if (not universe.parent=='') and \\\n",
    "       (not universe.parent.card=='') and \\\n",
    "       (not names[0][place_card.a] in [names[0][universe.card.a],names[1][universe.card.b]]) and \\\n",
    "       (not names[1][place_card.b] in [names[0][universe.card.a],names[1][universe.card.b]]):\n",
    "        \n",
    "        availability=False\n",
    "    \n",
    "    elif universe.turn==0 and not place in available_places:\n",
    "        \n",
    "        availability=False\n",
    "\n",
    "    elif not place_card.player==0:\n",
    "        \n",
    "        availability=False\n",
    "\n",
    "    return availability"
   ]
  },
  {
   "cell_type": "code",
   "execution_count": 9,
   "metadata": {},
   "outputs": [],
   "source": [
    "def draw_tree(universe):\n",
    "    cnt=1\n",
    "    for u in universe.child_universes:\n",
    "        cnt+=draw_tree(u)\n",
    "    return cnt"
   ]
  },
  {
   "cell_type": "code",
   "execution_count": 10,
   "metadata": {},
   "outputs": [],
   "source": [
    "def universe_winner(universe):\n",
    "    p_a=[-1,-1,-1,-1]\n",
    "    p_b=[1,1,1,1]\n",
    "    field=universe.field\n",
    "    #horisontal\n",
    "    for row in field:\n",
    "        line=[c.player for c in row]        \n",
    "        if line==p_a:\n",
    "            return -1\n",
    "        if line==p_b:            \n",
    "            return 1\n",
    "    #vertical\n",
    "    for col in range(0,4):\n",
    "        line=[]\n",
    "        for row in range(0,4):\n",
    "            line.append(field[row][col].player)\n",
    "        if line==p_a:\n",
    "            return -1\n",
    "        if line==p_b:            \n",
    "            return 1\n",
    "    #quad\n",
    "    for comp in [-1,1]:\n",
    "        for row in range(0,3):\n",
    "            for col in range(0,3):                \n",
    "                if field[0+row][0+col].player==comp and \\\n",
    "                   field[0+row][1+col].player==comp and \\\n",
    "                   field[1+row][0+col].player==comp and \\\n",
    "                   field[1+row][1+col].player==comp:\n",
    "                    return comp\n",
    "    return 0"
   ]
  },
  {
   "cell_type": "code",
   "execution_count": 11,
   "metadata": {},
   "outputs": [],
   "source": [
    "class Env:\n",
    "    def __init__(self, parent,place):\n",
    "        self.child_universes=[]\n",
    "        self.parent=parent\n",
    "        self.wins_A=0\n",
    "        self.wins_B=0\n",
    "        if parent=='':\n",
    "            self.player=-1            \n",
    "            self.turn=0\n",
    "            self.field=generate_field()\n",
    "            \n",
    "        else:            \n",
    "            self.player=-1 if parent.player==1 else 1            \n",
    "            self.turn=parent.turn+1\n",
    "            self.field=deepcopy(parent.field)\n",
    "            self.field[place[0]][place[1]].player=self.player\n",
    "        self.card=self.field[place[0]][place[1]]"
   ]
  },
  {
   "cell_type": "code",
   "execution_count": 12,
   "metadata": {},
   "outputs": [],
   "source": [
    "def back_propogation(universe,winner):\n",
    "    if winner==-1:\n",
    "        universe.wins_A+=1\n",
    "    elif winner==1:\n",
    "        universe.wins_B+=1\n",
    "    if universe.turn>0:\n",
    "        back_propogation(universe.parent,winner)"
   ]
  },
  {
   "cell_type": "code",
   "execution_count": 13,
   "metadata": {},
   "outputs": [],
   "source": [
    "def create_subuniverses(universe):\n",
    "    universes_added=0\n",
    "    if not universe_winner(universe):\n",
    "        for i in range(0,4):\n",
    "            for j in range(0,4):            \n",
    "                if place_available(universe,[i,j]):                    \n",
    "                    universes_added+=1\n",
    "                    universe.child_universes.append( Env(universe,[i,j]) )\n",
    "    if universes_added==0:\n",
    "        back_propogation(universe,universe.player)\n",
    "    return universes_added"
   ]
  },
  {
   "cell_type": "code",
   "execution_count": 14,
   "metadata": {},
   "outputs": [],
   "source": [
    "def get_child(universe,depth,cell):\n",
    "    child=universe\n",
    "    for i in range(0,depth):\n",
    "        child=child.child_universes[cell]\n",
    "    return child"
   ]
  },
  {
   "cell_type": "code",
   "execution_count": 15,
   "metadata": {},
   "outputs": [],
   "source": [
    "def draw_party(universe,depth,cell):\n",
    "    for i in range(0,depth):\n",
    "        u=universe if i ==0 else get_child(universe,i,cell)\n",
    "        print('turn:',u.turn)\n",
    "        print('player:',u.player)\n",
    "        draw_card(u.card)\n",
    "        draw_field(u.field)"
   ]
  },
  {
   "cell_type": "code",
   "execution_count": 16,
   "metadata": {},
   "outputs": [],
   "source": [
    "def get_children(universe,turn):\n",
    "    container=[]\n",
    "    if universe.turn==turn-1:\n",
    "        return universe.child_universes\n",
    "    for child in universe.child_universes:\n",
    "        container+=get_children(child,turn)\n",
    "    return container"
   ]
  },
  {
   "cell_type": "code",
   "execution_count": 17,
   "metadata": {},
   "outputs": [],
   "source": [
    "def play(universe_count,universes,start,depth):\n",
    "    for turn in range(start,depth):\n",
    "        children=get_children(universe,turn)\n",
    "        print('turn:',turn,'mother universes:',len(children))\n",
    "        for child in children:\n",
    "            universe_count+=create_subuniverses(child)\n",
    "        print(datetime.datetime.now(),'universe family:',universe_count,'wins',universe.wins_A,'x',universe.wins_B)\n",
    "    print('complete')"
   ]
  },
  {
   "cell_type": "code",
   "execution_count": 38,
   "metadata": {},
   "outputs": [],
   "source": [
    "def get_best_child(universe):\n",
    "    children=universe.child_universes\n",
    "    best_child=universe.child_universes[0]\n",
    "    if best_child.player==-1:\n",
    "        for child in children:\n",
    "            if child.wins_A>best_child.wins_A:\n",
    "                best_child=child\n",
    "        print('wins:',best_child.wins_A)\n",
    "    else:\n",
    "        for child in children:\n",
    "            if child.wins_B>best_child.wins_B:\n",
    "                best_child=child\n",
    "        print('wins:',best_child.wins_B)\n",
    "    draw_card(best_child.card)\n",
    "    return best_child"
   ]
  },
  {
   "cell_type": "code",
   "execution_count": 44,
   "metadata": {},
   "outputs": [],
   "source": [
    "def get_last_universe(universe,way):\n",
    "    for turn in way:\n",
    "        for child in universe.child_universes:\n",
    "            if child.card.a==turn.a and child.card.b==turn.b:\n",
    "                universe=child\n",
    "                break\n",
    "    return universe"
   ]
  },
  {
   "cell_type": "code",
   "execution_count": 48,
   "metadata": {},
   "outputs": [
    {
     "name": "stdout",
     "output_type": "stream",
     "text": [
      "2020-02-25 00:15:33.995965 universe family: 13\n",
      "turn: 1 mother universes: 12\n",
      "2020-02-25 00:15:34.008991 universe family: 85 wins 0 x 0\n",
      "turn: 2 mother universes: 72\n",
      "2020-02-25 00:15:34.066010 universe family: 445 wins 0 x 0\n",
      "turn: 3 mother universes: 360\n",
      "2020-02-25 00:15:34.290939 universe family: 2101 wins 0 x 0\n",
      "turn: 4 mother universes: 1656\n",
      "2020-02-25 00:15:35.373916 universe family: 9445 wins 0 x 0\n",
      "turn: 5 mother universes: 7344\n",
      "2020-02-25 00:15:40.742049 universe family: 40117 wins 0 x 0\n",
      "turn: 6 mother universes: 30672\n",
      "2020-02-25 00:15:58.358521 universe family: 157621 wins 0 x 0\n",
      "turn: 7 mother universes: 117504\n",
      "2020-02-25 00:17:02.941110 universe family: 568365 wins 0 x 809\n",
      "turn: 8 mother universes: 410744\n",
      "2020-02-25 00:20:30.827515 universe family: 1870809 wins 3814 x 809\n",
      "turn: 9 mother universes: 1302444\n",
      "2020-02-25 00:30:07.753865 universe family: 5477227 wins 3814 x 45560\n",
      "complete\n"
     ]
    }
   ],
   "source": [
    "# 10 universe family: 5461240 wins 4484 x 48035\n",
    "# 11 universe family: 14362751 wins 152165 x 38707 - 25 min\n",
    "universe=Env('',[0,0])\n",
    "universe_count=1\n",
    "universe_count+= create_subuniverses(universe)\n",
    "print(datetime.datetime.now(),'universe family:',universe_count)\n",
    "\n",
    "play(universe_count,universe,1,11)"
   ]
  },
  {
   "cell_type": "code",
   "execution_count": 75,
   "metadata": {},
   "outputs": [],
   "source": [
    "pickle.dump(universe, file = open(\"okiya_11.pickle\", \"wb\"))"
   ]
  },
  {
   "cell_type": "code",
   "execution_count": null,
   "metadata": {},
   "outputs": [],
   "source": [
    "# Start game there !\n",
    "#universe = pickle.load(open(\"okiya_3.pickle\", \"rb\"))"
   ]
  },
  {
   "cell_type": "code",
   "execution_count": 70,
   "metadata": {},
   "outputs": [],
   "source": [
    "# Every turn, add places of name list. for example, 3,2=='Сосна','Тандзаку'\n",
    "#last parameter user does not matter there\n",
    "way=[\n",
    "    Card(3,2,1),\n",
    "    Card(3,1,-1),\n",
    "    Card(3,0,1),\n",
    "    Card(3,3,-1),\n",
    "    Card(0,3,1),\n",
    "    Card(0,1,-1),\n",
    "    Card(2,1,1),\n",
    "    Card(2,3,-1)\n",
    "]\n",
    "last=get_last_universe(universe,way)\n",
    "print('turn',last.turn)\n",
    "draw_field(last.field)\n",
    "get_best_child(last)"
   ]
  }
 ],
 "metadata": {
  "kernelspec": {
   "display_name": "Python 3",
   "language": "python",
   "name": "python3"
  },
  "language_info": {
   "codemirror_mode": {
    "name": "ipython",
    "version": 3
   },
   "file_extension": ".py",
   "mimetype": "text/x-python",
   "name": "python",
   "nbconvert_exporter": "python",
   "pygments_lexer": "ipython3",
   "version": "3.6.9"
  }
 },
 "nbformat": 4,
 "nbformat_minor": 2
}
